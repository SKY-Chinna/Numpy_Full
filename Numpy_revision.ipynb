{
 "cells": [
  {
   "cell_type": "markdown",
   "id": "99284548",
   "metadata": {},
   "source": [
    "# Numpy Revision"
   ]
  },
  {
   "cell_type": "code",
   "execution_count": 1,
   "id": "1390c800",
   "metadata": {},
   "outputs": [
    {
     "name": "stdout",
     "output_type": "stream",
     "text": [
      "1.23.5\n"
     ]
    }
   ],
   "source": [
    "import numpy as np\n",
    "\n",
    "print(np.__version__)"
   ]
  },
  {
   "cell_type": "code",
   "execution_count": 3,
   "id": "15e63e0a",
   "metadata": {},
   "outputs": [
    {
     "data": {
      "text/plain": [
       "array([0, 1, 2, 3, 4, 5, 6, 7, 8, 9])"
      ]
     },
     "execution_count": 3,
     "metadata": {},
     "output_type": "execute_result"
    }
   ],
   "source": [
    "q=np.arange(10)\n",
    "q"
   ]
  },
  {
   "cell_type": "code",
   "execution_count": null,
   "id": "f30bc102",
   "metadata": {},
   "outputs": [],
   "source": [
    "# create an 3*3 matrix with all true values"
   ]
  },
  {
   "cell_type": "code",
   "execution_count": 8,
   "id": "1f295152",
   "metadata": {},
   "outputs": [
    {
     "name": "stdout",
     "output_type": "stream",
     "text": [
      "[[ True  True  True]\n",
      " [ True  True  True]\n",
      " [ True  True  True]]\n",
      "[[ True  True  True]\n",
      " [ True  True  True]\n",
      " [ True  True  True]]\n"
     ]
    }
   ],
   "source": [
    "\n",
    "fi=np.full((3,3), True, dtype=bool)\n",
    "fi\n",
    "\n",
    "re=np.ones((3,3), dtype=bool)\n",
    "print(re)\n",
    "print(fi)\n"
   ]
  },
  {
   "cell_type": "code",
   "execution_count": 9,
   "id": "35a5ff03",
   "metadata": {},
   "outputs": [
    {
     "data": {
      "text/plain": [
       "array([ 1,  3,  5,  7,  9, 11, 13])"
      ]
     },
     "execution_count": 9,
     "metadata": {},
     "output_type": "execute_result"
    }
   ],
   "source": [
    "#extract all the odd numbers from the array\n",
    "\n",
    "arr=np.arange(15)\n",
    "\n",
    "a=arr[arr%2==1]\n",
    "a\n"
   ]
  },
  {
   "cell_type": "code",
   "execution_count": 11,
   "id": "6a9f6000",
   "metadata": {},
   "outputs": [
    {
     "data": {
      "text/plain": [
       "array([ 0, -1,  2, -1,  4, -1,  6, -1,  8, -1, 10, -1, 12, -1, 14])"
      ]
     },
     "execution_count": 11,
     "metadata": {},
     "output_type": "execute_result"
    }
   ],
   "source": [
    "# replace all the odd numbers with -1\n",
    "arr=np.arange(15)\n",
    "arr\n",
    "arr[arr%2==1]=-1\n",
    "arr"
   ]
  },
  {
   "cell_type": "code",
   "execution_count": 12,
   "id": "df7edf9c",
   "metadata": {},
   "outputs": [
    {
     "data": {
      "text/plain": [
       "array(['0', 'chinna', '2', 'chinna', '4', 'chinna', '6', 'chinna', '8',\n",
       "       'chinna', '10', 'chinna', '12', 'chinna', '14', 'chinna', '16',\n",
       "       'chinna', '18', 'chinna'], dtype='<U11')"
      ]
     },
     "execution_count": 12,
     "metadata": {},
     "output_type": "execute_result"
    }
   ],
   "source": [
    "# replace all the odd number with 'chinna', without changing the array\n",
    "\n",
    "arr=np.arange(20)\n",
    "f=np.where(arr%2==1, 'chinna', arr)\n",
    "f"
   ]
  },
  {
   "cell_type": "code",
   "execution_count": 14,
   "id": "e7dd1bf2",
   "metadata": {},
   "outputs": [
    {
     "data": {
      "text/plain": [
       "array([[0, 1, 2],\n",
       "       [3, 4, 5]])"
      ]
     },
     "execution_count": 14,
     "metadata": {},
     "output_type": "execute_result"
    }
   ],
   "source": [
    "# convert 1dim, to 2dim with 2 rows\n",
    "arr=np.arange(6)\n",
    "arr\n",
    "\n",
    "arr.reshape(2,3)"
   ]
  },
  {
   "cell_type": "code",
   "execution_count": 21,
   "id": "35174ba0",
   "metadata": {},
   "outputs": [
    {
     "name": "stdout",
     "output_type": "stream",
     "text": [
      "[[0 1 2 3 4]\n",
      " [5 6 7 8 9]]\n",
      "[[20 20 20 20 20]\n",
      " [20 20 20 20 20]]\n",
      "[[ 0  1  2  3  4]\n",
      " [ 5  6  7  8  9]\n",
      " [20 20 20 20 20]\n",
      " [20 20 20 20 20]]\n",
      "[[ 0  1  2  3  4]\n",
      " [ 5  6  7  8  9]\n",
      " [20 20 20 20 20]\n",
      " [20 20 20 20 20]]\n",
      "[[ 0  1  2  3  4]\n",
      " [ 5  6  7  8  9]\n",
      " [20 20 20 20 20]\n",
      " [20 20 20 20 20]]\n"
     ]
    }
   ],
   "source": [
    "# how to stack arrays a nd b vertically and horizontally\n",
    "from numpy import vstack\n",
    "arr1=np.arange(10).reshape(2,5)\n",
    "arr2=np.repeat(20, 10).reshape(2,5)\n",
    "print(arr1)\n",
    "print(arr2)\n",
    "\n",
    "z=np.concatenate([arr1, arr2])\n",
    "print(z)\n",
    "# second method\n",
    "q=np.vstack([arr1, arr2])\n",
    "print(q)\n",
    "# third method\n",
    "a=np.r_[arr1, arr2]\n",
    "print(a)\n",
    "\n"
   ]
  },
  {
   "cell_type": "code",
   "execution_count": 22,
   "id": "b06ea5d5",
   "metadata": {},
   "outputs": [
    {
     "name": "stdout",
     "output_type": "stream",
     "text": [
      "[[ 0  1  2  3  4 20 20 20 20 20]\n",
      " [ 5  6  7  8  9 20 20 20 20 20]]\n",
      "[[ 0  1  2  3  4 20 20 20 20 20]\n",
      " [ 5  6  7  8  9 20 20 20 20 20]]\n",
      "[[ 0  1  2  3  4 20 20 20 20 20]\n",
      " [ 5  6  7  8  9 20 20 20 20 20]]\n"
     ]
    }
   ],
   "source": [
    "# Now for horizontally\n",
    "\n",
    "b=np.concatenate([arr1, arr2], axis=1)\n",
    "print(b)\n",
    "# second method\n",
    "c=np.hstack([arr1, arr2])\n",
    "print(c)\n",
    "# third method\n",
    "d=np.c_[arr1, arr2]\n",
    "print(d)"
   ]
  },
  {
   "cell_type": "code",
   "execution_count": 27,
   "id": "77b8205b",
   "metadata": {},
   "outputs": [
    {
     "name": "stdout",
     "output_type": "stream",
     "text": [
      "[1 1 1 2 2 2 3 3 3]\n",
      "[1 2 3 1 2 3 1 2 3]\n",
      "[[1 1]\n",
      " [1 2]\n",
      " [1 3]\n",
      " [2 1]\n",
      " [2 2]\n",
      " [2 3]\n",
      " [3 1]\n",
      " [3 2]\n",
      " [3 3]]\n",
      "[1 1 1 2 2 2 3 3 3 1 2 3 1 2 3 1 2 3]\n"
     ]
    }
   ],
   "source": [
    "# create a array like these arr=[1,1,1,2,2,2,3,3,3,1,2,3,1,2,3,1,2,3]\n",
    "\n",
    "a=np.array([1,2,3])\n",
    "b=np.repeat(a,3)\n",
    "print(b)\n",
    "c=np.tile(a,3)\n",
    "print(c)\n",
    "d=np.r_[b,c]\n",
    "g=np.c_[b,c]\n",
    "print(g)\n",
    "print(d)"
   ]
  },
  {
   "cell_type": "code",
   "execution_count": 29,
   "id": "63991f6b",
   "metadata": {},
   "outputs": [
    {
     "data": {
      "text/plain": [
       "array([2, 6, 8, 9])"
      ]
     },
     "execution_count": 29,
     "metadata": {},
     "output_type": "execute_result"
    }
   ],
   "source": [
    "# get the common items between the elements\n",
    "\n",
    "a=np.array([1,2,5,6,7,8,9])\n",
    "b=np.array([2,6,8,9,11,45,67])\n",
    "\n",
    "c=np.intersect1d(a,b)\n",
    "c"
   ]
  },
  {
   "cell_type": "code",
   "execution_count": 34,
   "id": "8b01c815",
   "metadata": {},
   "outputs": [
    {
     "data": {
      "text/plain": [
       "array([1, 4])"
      ]
     },
     "execution_count": 34,
     "metadata": {},
     "output_type": "execute_result"
    }
   ],
   "source": [
    "# from c remove all the items present in d\n",
    "\n",
    "c=np.array([1,2,3,4,5])\n",
    "d=np.array([3,2,5,6,7,8])\n",
    "g=np.setdiff1d(c,d)\n",
    "g"
   ]
  },
  {
   "cell_type": "code",
   "execution_count": 35,
   "id": "d0b89cc4",
   "metadata": {},
   "outputs": [
    {
     "data": {
      "text/plain": [
       "(array([1], dtype=int64),)"
      ]
     },
     "execution_count": 35,
     "metadata": {},
     "output_type": "execute_result"
    }
   ],
   "source": [
    "#get the positions where elements of c and d match\n",
    "c=np.array([1,2,3,4,5,6])\n",
    "d=np.array([3,2,5,6,7,8])\n",
    "li8=np.where(c==d)\n",
    "li8"
   ]
  },
  {
   "cell_type": "code",
   "execution_count": 48,
   "id": "7ee6954a",
   "metadata": {},
   "outputs": [
    {
     "data": {
      "text/plain": [
       "(array([2, 3, 4, 5, 6], dtype=int64),)"
      ]
     },
     "execution_count": 48,
     "metadata": {},
     "output_type": "execute_result"
    }
   ],
   "source": [
    "# get all the elements between 5 and 10\n",
    "\n",
    "a1=np.arange(15)\n",
    "\n",
    "bn=np.where((a1>=5)&(a1<=10))\n",
    "bn\n",
    "new=a[(a>=5)&(a<=10)]\n",
    "new\n",
    "final=np.where(np.logical_and((a>=5),(a<=10)))\n",
    "final"
   ]
  },
  {
   "cell_type": "code",
   "execution_count": 51,
   "id": "6ccc895d",
   "metadata": {},
   "outputs": [
    {
     "data": {
      "text/plain": [
       "array([3, 2, 5, 6, 7, 8])"
      ]
     },
     "execution_count": 51,
     "metadata": {},
     "output_type": "execute_result"
    }
   ],
   "source": [
    "# create an fun max that handle two arrays\n",
    "\n",
    "c=np.array([1,2,3,4,5,6])\n",
    "d=np.array([3,2,5,6,7,8])\n",
    "\n",
    "def maxx(c,d):\n",
    "    if c>d:\n",
    "        return c\n",
    "    else:\n",
    "        return d\n",
    "pair_max=np.vectorize(maxx, otypes=[int])\n",
    "pair_max(c,d)\n",
    "\n"
   ]
  },
  {
   "cell_type": "code",
   "execution_count": 56,
   "id": "1006150f",
   "metadata": {},
   "outputs": [
    {
     "name": "stdout",
     "output_type": "stream",
     "text": [
      "[[0 1 2]\n",
      " [3 4 5]\n",
      " [6 7 8]]\n"
     ]
    },
    {
     "data": {
      "text/plain": [
       "array([[1, 0, 2],\n",
       "       [4, 3, 5],\n",
       "       [7, 6, 8]])"
      ]
     },
     "execution_count": 56,
     "metadata": {},
     "output_type": "execute_result"
    }
   ],
   "source": [
    "# swap columns 1 nad 2 in the array\n",
    "\n",
    "c=np.arange(9).reshape(3,3)\n",
    "print(c)\n",
    "d=c[:, (1,0,2)]\n",
    "d"
   ]
  },
  {
   "cell_type": "code",
   "execution_count": 55,
   "id": "8b95b82e",
   "metadata": {},
   "outputs": [
    {
     "data": {
      "text/plain": [
       "array([[3, 4, 5],\n",
       "       [0, 1, 2],\n",
       "       [6, 7, 8]])"
      ]
     },
     "execution_count": 55,
     "metadata": {},
     "output_type": "execute_result"
    }
   ],
   "source": [
    "# swap rows 1 nad 2 in the array\n",
    "e=c[(1,0,2), :]\n",
    "e"
   ]
  },
  {
   "cell_type": "code",
   "execution_count": 57,
   "id": "fbda59c2",
   "metadata": {},
   "outputs": [
    {
     "data": {
      "text/plain": [
       "array([[6, 7, 8],\n",
       "       [3, 4, 5],\n",
       "       [0, 1, 2]])"
      ]
     },
     "execution_count": 57,
     "metadata": {},
     "output_type": "execute_result"
    }
   ],
   "source": [
    "# reverse the rows of a 2d array\n",
    "g=c[::-1]\n",
    "g"
   ]
  },
  {
   "cell_type": "code",
   "execution_count": 58,
   "id": "f391020d",
   "metadata": {},
   "outputs": [
    {
     "data": {
      "text/plain": [
       "array([[2, 1, 0],\n",
       "       [5, 4, 3],\n",
       "       [8, 7, 6]])"
      ]
     },
     "execution_count": 58,
     "metadata": {},
     "output_type": "execute_result"
    }
   ],
   "source": [
    "# reverse the colomns of a 2d array\n",
    "f=c[:, ::-1]\n",
    "f"
   ]
  },
  {
   "cell_type": "code",
   "execution_count": 59,
   "id": "caf895a0",
   "metadata": {},
   "outputs": [
    {
     "data": {
      "text/plain": [
       "array([[5.75383997, 6.8115876 , 6.35127124],\n",
       "       [6.53838637, 5.28978845, 9.93318412],\n",
       "       [9.5283264 , 5.24263994, 6.55428805],\n",
       "       [5.38856646, 7.10706555, 6.36326871],\n",
       "       [5.95268111, 7.5527127 , 7.50125846]])"
      ]
     },
     "execution_count": 59,
     "metadata": {},
     "output_type": "execute_result"
    }
   ],
   "source": [
    "# cretae a 2d aray of 5*3 of random decimals b/w 5 and 10\n",
    "\n",
    "fine=np.random.uniform(5,10, size=(5,3))\n",
    "fine"
   ]
  },
  {
   "cell_type": "code",
   "execution_count": null,
   "id": "bbf14db5",
   "metadata": {},
   "outputs": [],
   "source": []
  }
 ],
 "metadata": {
  "kernelspec": {
   "display_name": "Python 3 (ipykernel)",
   "language": "python",
   "name": "python3"
  },
  "language_info": {
   "codemirror_mode": {
    "name": "ipython",
    "version": 3
   },
   "file_extension": ".py",
   "mimetype": "text/x-python",
   "name": "python",
   "nbconvert_exporter": "python",
   "pygments_lexer": "ipython3",
   "version": "3.10.11"
  }
 },
 "nbformat": 4,
 "nbformat_minor": 5
}
